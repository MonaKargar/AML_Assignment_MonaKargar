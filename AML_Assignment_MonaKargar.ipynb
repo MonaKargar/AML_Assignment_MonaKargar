{
 "cells": [
  {
   "cell_type": "markdown",
   "id": "9363bf00-4605-4a4c-9107-6f097e5105cc",
   "metadata": {},
   "source": [
    "### Select Audio files\n",
    "In this part, I would like to select my data set and copy the selected audio files to another directory. \n",
    "I am using these audio files: Frog:4, Sheep:8, Rain:10, Sea waves:11, Laughing:26, Snoring:28, Mouse click:31, Clock tick:38, Helicopter:40, Church bells:46   \n",
    "my_target_audio = [4, 8, 10, 11, 26, 28, 31, 38, 40, 46]\n",
    "\n",
    "According to csv file, I will select the ones which end with the -target.wav \n",
    "Now I have 400 selected audio files in my_audio directory\n"
   ]
  },
  {
   "cell_type": "code",
   "execution_count": 21,
   "id": "fe3cec89-9386-4d6b-ad6b-944ec0228a43",
   "metadata": {},
   "outputs": [
    {
     "name": "stdout",
     "output_type": "stream",
     "text": [
      "Selected files copied to my_audio\n"
     ]
    }
   ],
   "source": [
    "import pandas as pd\n",
    "import os\n",
    "import requests\n",
    "import shutil\n",
    "\n",
    "\n",
    "file_path = 'ESC-50-master/meta/esc50.csv'\n",
    "\n",
    "# Read the CSV file\n",
    "df = pd.read_csv(file_path)\n",
    "\n",
    "# I am using these data frames: Frog:4, Sheep:8, Rain:10, Sea waves:11, Laughing:26, Snoring:28, Mouse click:31, Clock tick:38, Helicopter:40, Church bells:46   \n",
    "\n",
    "my_target_audio = [4, 8, 10, 11, 26, 28, 31, 38, 40, 46]\n",
    "\n",
    "\n",
    "# Replace 'your_original_directory' and 'your_new_directory' with the actual directory paths\n",
    "original_directory = 'ESC-50-master/audio'\n",
    "new_directory = 'my_audio'\n",
    "\n",
    "# Specify the column containing the audio file names\n",
    "audio_column = 'filename'  # Replace with the actual column name\n",
    "\n",
    "for i in my_target_audio: \n",
    "    # Filter the DataFrame based on the condition\n",
    "    selected_files = df[df[audio_column].str.endswith(f'{-i}.wav')][audio_column]\n",
    "  \n",
    "    # Create the new directory if it doesn't exist\n",
    "    os.makedirs(new_directory, exist_ok=True)\n",
    "    \n",
    "    # Copy selected files to the new directory\n",
    "    for file_name in selected_files:\n",
    "        source_path = os.path.join(original_directory, file_name)\n",
    "        destination_path = os.path.join(new_directory, file_name)\n",
    "        shutil.copyfile(source_path, destination_path)\n",
    "\n",
    "print(f\"Selected files copied to {new_directory}\")\n",
    "\n",
    "\n",
    "\n"
   ]
  },
  {
   "cell_type": "code",
   "execution_count": null,
   "id": "6e98578a-0eab-43c9-ab4b-6642755c7fc7",
   "metadata": {},
   "outputs": [],
   "source": []
  }
 ],
 "metadata": {
  "kernelspec": {
   "display_name": "Python 3 (ipykernel)",
   "language": "python",
   "name": "python3"
  },
  "language_info": {
   "codemirror_mode": {
    "name": "ipython",
    "version": 3
   },
   "file_extension": ".py",
   "mimetype": "text/x-python",
   "name": "python",
   "nbconvert_exporter": "python",
   "pygments_lexer": "ipython3",
   "version": "3.12.0"
  }
 },
 "nbformat": 4,
 "nbformat_minor": 5
}
